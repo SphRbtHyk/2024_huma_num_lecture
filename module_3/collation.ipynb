{
 "cells": [
  {
   "cell_type": "markdown",
   "id": "057e2bfa-1d92-4b98-b5c3-41f8f5d95a0b",
   "metadata": {},
   "source": [
    "# Réaliser une collation automatique"
   ]
  },
  {
   "cell_type": "markdown",
   "id": "cbcd42aa-aaf1-45ba-a74e-ed9a4085e9cc",
   "metadata": {},
   "source": [
    "## Installer les dépendances"
   ]
  },
  {
   "cell_type": "markdown",
   "id": "68918562-abc1-4cdd-9e93-11b88f15a70e",
   "metadata": {},
   "source": [
    "Vous devez tout d'abord installer :\n",
    "- Collatex\n",
    "- Levensthein\n",
    "\n",
    "à l'aide de pip, dans notre terminal :\n",
    "\n",
    "pip install collatex Levenshthein"
   ]
  },
  {
   "cell_type": "code",
   "execution_count": 4,
   "id": "6edc9b29-1d5b-4333-af44-c74e8dfff798",
   "metadata": {},
   "outputs": [],
   "source": [
    "from collatex import *"
   ]
  },
  {
   "cell_type": "markdown",
   "id": "447416ac-c2b1-4965-a27e-9e3983d2f61d",
   "metadata": {},
   "source": [
    "Vous pouvez accéder à la documentation ici : http://interedition.github.io/collatex/pythonport.html"
   ]
  },
  {
   "cell_type": "markdown",
   "id": "f6d5b107-8d48-449e-ac72-8b120c063375",
   "metadata": {},
   "source": [
    "## Aligner un texte\n",
    "\n",
    "Le flux de fonctionnement est le suivant :"
   ]
  },
  {
   "cell_type": "code",
   "execution_count": 8,
   "id": "1a541831-0063-42ee-9ee4-4660d3b76f00",
   "metadata": {},
   "outputs": [
    {
     "data": {
      "text/html": [
       "<TABLE border=\"1\" style=\"border: 1px solid #000000; border-collapse: collapse;\" cellpadding=\"4\">\n",
       " <TR>\n",
       "  <TH>temoin1</TH>\n",
       "  <TH>temoin2</TH>\n",
       " </TR>\n",
       " <TR>\n",
       "  <TD bgcolor=\"00FFFF\">Le</TD>\n",
       "  <TD bgcolor=\"00FFFF\">Le</TD>\n",
       " </TR>\n",
       " <TR>\n",
       "  <TD bgcolor=\"FF0000\">chien</TD>\n",
       "  <TD bgcolor=\"FF0000\">chat</TD>\n",
       " </TR>\n",
       " <TR>\n",
       "  <TD bgcolor=\"00FFFF\">est bleu</TD>\n",
       "  <TD bgcolor=\"00FFFF\">est bleu</TD>\n",
       " </TR>\n",
       "</TABLE>"
      ],
      "text/plain": [
       "<IPython.core.display.HTML object>"
      ]
     },
     "metadata": {},
     "output_type": "display_data"
    }
   ],
   "source": [
    "# Créer un objet de la classe collation\n",
    "collation = Collation()\n",
    "\n",
    "# Rajouter l'ensemble des témoins que l'on souhaite comparer ainsi que leur nom\n",
    "collation.add_plain_witness(\"temoin1\", \"Le chien est bleu\")\n",
    "collation.add_plain_witness(\"temoin2\", \"Le chat est bleu\")\n",
    "\n",
    "# Réaliser la collation\n",
    "collate(collation, output=\"html2\", )"
   ]
  },
  {
   "cell_type": "markdown",
   "id": "46c19ffa-4450-44c2-8853-6fc9c2784d3f",
   "metadata": {},
   "source": [
    "**Exercice :**\n",
    "\n",
    "1. A l'aide du NTVMR, réalisez la collation de manière automatique de Marc 1:1 pour:\n",
    "    - Le Sinaïticus (20001)\n",
    "    - L'Alexandrinus (20002)\n",
    "    - Le Vaticanus (20003)\n",
    "    - Le Bezae (20005)\n",
    "    - La Minuscule 33 (30033)\n",
    "\n",
    "\n",
    "2. Comprenez et décrivez ce que font les options suivantes, et testez les tour à tour :\n",
    "   - segmentation: bool\n",
    "   - near_match: bool"
   ]
  },
  {
   "cell_type": "markdown",
   "id": "6def82b8-905c-4f9d-ac5e-a9605fca2483",
   "metadata": {},
   "source": [
    "## Utiliser l'API REST du NTVMR pour récupérer des données"
   ]
  },
  {
   "cell_type": "code",
   "execution_count": null,
   "id": "8619e4fc-352a-41a5-a3aa-c945df8bc350",
   "metadata": {},
   "outputs": [],
   "source": []
  }
 ],
 "metadata": {
  "kernelspec": {
   "display_name": "Python 3 (ipykernel)",
   "language": "python",
   "name": "python3"
  },
  "language_info": {
   "codemirror_mode": {
    "name": "ipython",
    "version": 3
   },
   "file_extension": ".py",
   "mimetype": "text/x-python",
   "name": "python",
   "nbconvert_exporter": "python",
   "pygments_lexer": "ipython3",
   "version": "3.11.7"
  }
 },
 "nbformat": 4,
 "nbformat_minor": 5
}
