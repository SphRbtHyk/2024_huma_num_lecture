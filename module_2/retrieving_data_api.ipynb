{
 "cells": [
  {
   "cell_type": "markdown",
   "id": "bceef8e1-0642-4eb0-803a-129cdc0a4e6d",
   "metadata": {},
   "source": [
    "# Utiliser le NVTMR"
   ]
  },
  {
   "cell_type": "markdown",
   "id": "a7bbe76c-1465-4801-a122-d2b5140b2d3e",
   "metadata": {},
   "source": [
    "## Réaliser une transcription sur le NTVMR\n",
    "\n",
    "Avant d'apprendre à manipuler l'API, nous allons apprendre à manipuler [le NTVMR](https://ntvmr.uni-muenster.de/). \n",
    "\n",
    "**Vous devez avant tout avoir créé un compte utilisateur**.\n",
    "\n",
    "**Exercice**:\n",
    "\n",
    "1. Ouvrez dans le mode de visualisation le Codex de Bèze (ID : 20005) et sa transcription pour le Prologue de Jean (Jn 1:1-18).\n",
    "2. Créez votre propre session de transcription du Codex de Bèze (ID : 20005) et **réaliser la transcription** de Jean 1:1 (ça fait réviser la paléographie grecque :-)), **en détaillant la structure de la page transcrite**.\n",
    "3. Comparez vos résultats à ceux obtenus par la transcription \"officielle\"."
   ]
  },
  {
   "cell_type": "markdown",
   "id": "354f9a8a-e537-4e32-942c-016c6a25faac",
   "metadata": {},
   "source": [
    "## Le XML TEI"
   ]
  },
  {
   "cell_type": "markdown",
   "id": "a5316d2d-739b-4f3b-be27-cff112e76b61",
   "metadata": {},
   "source": [
    "Les données récupérées peuvent être récupérées au format XML TEI (rappelez vous le CM), en cliquant sur le bouton en haut à droite.\n",
    "\n",
    "Vous pouvez alors récupérer votre transcription encodée selon les balises que vous avez spécifié.\n",
    "\n",
    "Voici un **exemple** de résultat :"
   ]
  },
  {
   "cell_type": "raw",
   "id": "6f823afd-3c41-4f50-9ae5-51920ba72560",
   "metadata": {},
   "source": [
    "\n",
    "<?xml  version=\"1.0\" encoding=\"utf-8\"?>\n",
    "<!DOCTYPE TEI [<!ENTITY om \"\">\n",
    "<!ENTITY lac \"\">\n",
    "<!ENTITY lacorom \"\">]>\n",
    "<?xml-model href=\"TEI-NTMSS.rng\" type=\"application/xml\" schematypens=\"http://relaxng.org/ns/structure/1.0\"?>\n",
    "<TEI xmlns=\"http://www.tei-c.org/ns/1.0\">\n",
    " <teiHeader>\n",
    "  <fileDesc>\n",
    "   <titleStmt>\n",
    "    <title/>\n",
    "   </titleStmt>\n",
    "   <publicationStmt>\n",
    "    <publisher/>\n",
    "   </publicationStmt>\n",
    "   <sourceDesc>\n",
    "    <msDesc>\n",
    "     <msIdentifier>\n",
    "     </msIdentifier>\n",
    "    </msDesc>\n",
    "   </sourceDesc>\n",
    "  </fileDesc>\n",
    " </teiHeader>\n",
    " <text xml:lang=\"g-l\">\n",
    "  <body>\n",
    "   <div type=\"chapter\" n=\"BK1\">\n",
    "    <ab n=\"BK1V1\">\n",
    "     <w>εν</w>\n",
    "     <w>αρκη</w>\n",
    "     <w>ην</w>\n",
    "     <w>ο</w>\n",
    "     <w>λογοσ</w>\n",
    "     <w>και</w>\n",
    "     <w>ο</w>\n",
    "     <w>λογοσ</w>\n",
    "     <w>ην</w>\n",
    "     <w>προσ</w>\n",
    "     <w>τον</w>\n",
    "     <w>\n",
    "     <abbr type=\"nomSac\">\n",
    "      <hi rend=\"overline\">\n",
    "       <unclear reason=\"damage to page\">θν</unclear>\n",
    "      </hi>\n",
    "     </abbr>\n",
    "    </w>\n",
    "    <lb n=\"PCL-05\"/>\n",
    "    <w>και</w>\n",
    "    <w>\n",
    "    <abbr type=\"nomSac\">\n",
    "     <hi rend=\"overline\">θσ</hi>\n",
    "    </abbr>\n",
    "   </w>\n",
    "   <w>ην</w>\n",
    "   <w>ο</w>\n",
    "   <w>λογοσ</w>\n",
    "   <pc>·</pc>\n",
    "  </ab>\n",
    " </div>\n",
    "</body>\n",
    "</text>\n",
    "</TEI>"
   ]
  },
  {
   "cell_type": "markdown",
   "id": "973b458f-8f7f-4bed-a857-ec13618a805e",
   "metadata": {},
   "source": [
    "**Exercice**:\n",
    "\n",
    "1. Faîte la liste de l'ensemble des balises et de leur signfication.\n",
    "2. Changez la raison de \"non-clarté\" de la lecture θν en \"other\".\n",
    "3. Réalisez à la main l'XML de la version latine de Jean 3:16 (recto du manuscrit, pas de prologue en latin sur le Codex de Bèze :'( ):\n",
    "   \n",
    "    a. Réalisez la transcription du texte latin;\n",
    "   \n",
    "    b. Encodez le au format XML TEI sur le modèle précédent."
   ]
  },
  {
   "cell_type": "markdown",
   "id": "e2694cef-ca74-4a43-9736-8da72eba1fea",
   "metadata": {},
   "source": [
    "## Récupérer les données du NTVMR\n",
    "\n",
    "Vous trouverez ici la documentation de [l'API du NTVMR](https://ntvmr.uni-muenster.de/community/vmr/api/).\n",
    "\n",
    "Il existe de nombreuses librairies permettant de **réaliser des requêtes HTTP** avec Python (httpx, requests ...).\n",
    "\n",
    "Nous apprendrons à utiliser **httpx**, qu'il vous faut au préalable installer (`pip install httpx`). \n",
    "\n",
    "**Nous réaliserons des requêtes GET, c'est à dire pour récupérer les données**."
   ]
  },
  {
   "cell_type": "code",
   "execution_count": 16,
   "id": "d3f54cae-d983-4c7b-a385-d7b8d105aa66",
   "metadata": {},
   "outputs": [
    {
     "name": "stdout",
     "output_type": "stream",
     "text": [
      "Résultat de la requête : \n"
     ]
    },
    {
     "data": {
      "text/plain": [
       "'\\nFolio 81r\\n\\nCol 1\\n\\n(2Sam 6:20)ινα αυτο παρησιασωμαι ως δει με λαλησαι (21)ινα\\nδε ειδητε τα κατ εμε τι πρασσω παντα γνω=\\nρισει υμειν {*: τυχικο\\n[---] | corrector: τυχικος} ο αγαπητος αδελφος και\\nπιστος διακονος {*: ει̣ς̣ | corrector: εν} *κω* (22)ον επεμψα προς υμας\\nεις αυτο τουτο ινα γνωτε τα περι ημων και πα=\\nρακαλεση τας καρδιας {*: ημων | corrector: υμων} (23)ειρηνη τοις αγιοις\\nκαι αγαπη μετα πιστεως απο *θυ* *πρς* και *κυ* *ιηυ*\\n*χρυ* (7:0)η χαρις μετα παντων των αγαπωντων\\nτον *κν* ημων *ιην* *χρν* εν αφθαρσια\\n\\nπρος γαλατας\\n(1Sam 1:1)παυλο̣ς αποστολος ουκ απ ανθρωπων ουδε\\nδι ανθρωπου αλλα δια *ιηυ* *χρυ* και *θυ* πατρος\\nτου εγειραντος αυτον εκ νεκρων (2)και οι συν εμ̣ο̣ι\\nπαντες αδελφοι ταις εκκλησιαις̣ της γαλα\\nτιας (3)χαρις υμειν και ειρηνη απο *θυ* πατρος\\nκαι *κυ* ημων *ιηυ* *χρυ* (4)του δοντος αυτον περι\\nαμαρτιων ημων οπως εξεληται ημας εκ̣ τ[ου]\\nαιωνος του ενεσ̣τωτος πονηρου κατα το θελ̣[ημα]\\nτου *θυ* και *πρς* ημων (5)ω η δοξα εις τους αιων̣α̣ς̣ [των]\\nαιωνων αμην (6)θαυμαζω οτι ουτω τ̣[αχεως]\\nμετατιθεσθε απο του καλεσαντος {*: ημας | corrector: υμας} ε̣[ν] [χαριτι]\\nεις ετερον ευαγγελιον (7)ο ουκ εστιν αλλ[ο] [ει] [μη] [τι]\\nνες εισιν οι ταρασσο̣ντ̣ε̣ς υμας και [θελοντες] [μετα]\\nστρ̣εψαι το ευα̣[γ]γ̣ελιον του *χρυ* (8)α̣λ̣λ̣α̣ [και] [εαν] [ημεις] '"
      ]
     },
     "execution_count": 16,
     "metadata": {},
     "output_type": "execute_result"
    }
   ],
   "source": [
    "from httpx import Client\n",
    "\n",
    "# Créer l'objet qui permettra de faire les requêtes http\n",
    "\n",
    "client = Client()\n",
    "\n",
    "# Faire une requête GET sur le endpoint de votre choix\n",
    "\n",
    "request = client.get(url = \"https://ntvmr.uni-muenster.de/community/vmr/api/transcript/get/?docID=10046&indexContent=Gal.1.1&fullPage=true&format=plaintext\")\n",
    "\n",
    "print(\"Résultat de la requête : \")\n",
    "request.text"
   ]
  },
  {
   "cell_type": "markdown",
   "id": "34ac85df-12cd-4f20-838d-619b2947a79c",
   "metadata": {},
   "source": [
    "**Exercice**:\n",
    "\n",
    "1. Faîte la liste des endpoints disponibles.\n",
    "2. Trouvez les endpoints permettant de requêter les transcriptions réalisées et comprenez ses paramètres.\n",
    "3. Récupérez la transcription au format **txt** de Jean 1:1:\n",
    "\n",
    "    a. $\\mathfrak{P}^{75}$ (ID: 10075)\n",
    "   \n",
    "    b. **Codex de Bèze** (ID: 20005)\n",
    "\n",
    "    c. **Codex Vaticanus** (ID: 20003)\n",
    "\n",
    "3. Récupérez la transcription au format **XML TEI** de Jean 1:1:\n",
    "\n",
    "    a. $\\mathfrak{P}^{75}$ (ID: 10075)\n",
    "   \n",
    "    b. **Codex de Bèze** (ID: 20005)\n",
    "\n",
    "    c. **Codex Vaticanus** (ID: 20003)"
   ]
  },
  {
   "cell_type": "markdown",
   "id": "f13aa9c6-13de-4876-9bbd-6ce3b1b8720d",
   "metadata": {},
   "source": [
    "## Encoder vos propres données"
   ]
  },
  {
   "cell_type": "markdown",
   "id": "c322fb95-11ed-4ad5-868d-270401580081",
   "metadata": {},
   "source": [
    "Vous pouvez à présent encoder vos propres données au format XML pour pouvoir les partager au reste des étudiants."
   ]
  }
 ],
 "metadata": {
  "kernelspec": {
   "display_name": "Python 3 (ipykernel)",
   "language": "python",
   "name": "python3"
  },
  "language_info": {
   "codemirror_mode": {
    "name": "ipython",
    "version": 3
   },
   "file_extension": ".py",
   "mimetype": "text/x-python",
   "name": "python",
   "nbconvert_exporter": "python",
   "pygments_lexer": "ipython3",
   "version": "3.11.0"
  }
 },
 "nbformat": 4,
 "nbformat_minor": 5
}
